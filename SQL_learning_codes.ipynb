{
  "nbformat": 4,
  "nbformat_minor": 0,
  "metadata": {
    "colab": {
      "name": "SQL learning codes.ipynb",
      "provenance": [],
      "authorship_tag": "ABX9TyPGi1KESs5butktwPAQfvMF"
    },
    "kernelspec": {
      "name": "python3",
      "display_name": "Python 3"
    },
    "language_info": {
      "name": "python"
    }
  },
  "cells": [
    {
      "cell_type": "markdown",
      "source": [
        "Please write a DELETE statement and DO NOT write a SELECT statement.\n",
        "Write your MySQL query statement below\n",
        "\n",
        "```\n",
        "DELETE p1 FROM Person p1, \n",
        "    Person p2\n",
        "WHERE p1.Email = p2.Email AND p1.Id > p2.Id\n",
        "```\n",
        "\n"
      ],
      "metadata": {
        "id": "3wV0-HjliUno"
      }
    },
    {
      "cell_type": "markdown",
      "source": [
        "Write an SQL query to fix the names so that only the first character is uppercase and the rest are lowercase.\n",
        "\n",
        "\n",
        "```\n",
        "SELECT user_id, \n",
        "    CONCAT(UPPER(LEFT(name, 1)), LOWER(SUBSTRING(name, 2))) AS name\n",
        "FROM Users\n",
        "ORDER BY user_id\n",
        "```\n",
        "\n"
      ],
      "metadata": {
        "id": "CEde9DBDkbpb"
      }
    },
    {
      "cell_type": "markdown",
      "source": [
        "Write an SQL query to find for each date the number of different products sold and their names.\n",
        "\n",
        "```\n",
        "# Write your MySQL query statement below\n",
        "SELECT sell_date, COUNT(DISTINCT product) as num_sold, \n",
        "    GROUP_CONCAT(DISTINCT product) as products\n",
        "FROM Activities\n",
        "GROUP BY sell_date\n",
        "```\n",
        "\n",
        "\n",
        "\n",
        "\n"
      ],
      "metadata": {
        "id": "E6ey3IQWrCM6"
      }
    },
    {
      "cell_type": "markdown",
      "source": [
        "Write your MySQL query statement below\n",
        "\n",
        "Write an SQL query to report the patient_id, patient_name all conditions of patients who have Type I Diabetes. Type I Diabetes always starts with DIAB1 prefix\n",
        "\n",
        "```\n",
        "SELECT patient_id, patient_name, conditions \n",
        "FROM Patients \n",
        "WHERE conditions LIKE 'DIAB1%' or conditions LIKE '% DIAB1%'\n",
        "```\n",
        "\n"
      ],
      "metadata": {
        "id": "znriIHwV4zGi"
      }
    },
    {
      "cell_type": "markdown",
      "source": [
        "Employees With Missing Information\n",
        "\n",
        "\n",
        "```\n",
        "SELECT employee_id FROM Employees\n",
        "WHERE employee_id NOT IN (SELECT employee_id FROM Salaries)\n",
        "\n",
        "UNION\n",
        "\n",
        "SELECT employee_id FROM Salaries\n",
        "WHERE employee_id NOT IN (SELECT employee_id FROM Employees)\n",
        "\n",
        "ORDER BY employee_id\n",
        "```\n",
        "\n"
      ],
      "metadata": {
        "id": "XTNX0kY2ghvo"
      }
    },
    {
      "cell_type": "markdown",
      "source": [
        "Write an SQL query to rearrange the Products table so that each row has (product_id, store, price). If a product is not available in a store, do not include a row with that product_id and store combination in the result table.\n",
        "\n",
        "\n",
        "```\n",
        "SELECT product_id, 'store1' as store, store1 as price\n",
        "FROM Products\n",
        "WHERE store1 IS NOT NULL\n",
        "\n",
        "UNION\n",
        "\n",
        "SELECT product_id, 'store2' as store, store2 as price\n",
        "FROM Products\n",
        "WHERE store2 IS NOT NULL\n",
        "\n",
        "UNION\n",
        "\n",
        "SELECT product_id, 'store3' as store, store3 as price\n",
        "FROM Products\n",
        "WHERE store3 IS NOT NULL\n",
        "\n",
        "ORDER BY product_id\n",
        "```\n",
        "\n"
      ],
      "metadata": {
        "id": "EodeHvlQlcU6"
      }
    },
    {
      "cell_type": "markdown",
      "source": [
        "Each node in the tree can be one of three types:\n",
        "\n",
        "\"Leaf\": if the node is a leaf node.\n",
        "\"Root\": if the node is the root of the tree.\n",
        "\"Inner\": If the node is neither a leaf node nor a root node.\n",
        "Write an SQL query to report the type of each node in the tree.\n",
        "\n",
        "Return the result table ordered by id in ascending order.\n",
        "\n",
        "```\n",
        "# Write your MySQL query statement below\n",
        "SELECT id AS Id,\n",
        "CASE\n",
        "    WHEN Tree.id = (SELECT atree.id FROM Tree atree WHERE atree.p_id IS NULL) THEN 'Root'\n",
        "    WHEN Tree.id IN (SELECT atree.p_id FROM Tree atree) THEN 'Inner'\n",
        "    ELSE 'Leaf'\n",
        "    \n",
        "    END AS Type\n",
        "    \n",
        "FROM Tree\n",
        "    \n",
        "ORDER BY Id;\n",
        "```\n",
        "\n",
        "\n",
        "    "
      ],
      "metadata": {
        "id": "-3hetUEBsjNn"
      }
    },
    {
      "cell_type": "markdown",
      "source": [
        "Write an SQL query to report the second highest salary from the Employee table. If there is no second highest salary, the query should report null.\n",
        "\n",
        "```\n",
        "SELECT\n",
        "    (SELECT DISTINCT Salary\n",
        "\n",
        "    FROM Employee\n",
        "\n",
        "    ORDER BY Salary DESC\n",
        "\n",
        "    LIMIT 1 OFFSET 1) AS SecondHighestSalary\n",
        "```\n",
        "\n",
        "\n",
        "\n",
        "\n",
        "\n",
        "\n",
        "\n",
        "\n"
      ],
      "metadata": {
        "id": "1VERA7Hn2MJS"
      }
    },
    {
      "cell_type": "markdown",
      "source": [
        "Write an SQL query to report the first name, last name, city, and state of each person in the Person table. If the address of a personId is not present in the Address table, report null instead.\n",
        "\n",
        "\n",
        "\n",
        "```\n",
        "SELECT firstName, lastName, city, state\n",
        "\n",
        "FROM Person\n",
        "\n",
        "LEFT JOIN Address\n",
        "\n",
        "ON Person.personId = Address.personId\n",
        "```\n",
        "\n"
      ],
      "metadata": {
        "id": "l3X-VsZO69JX"
      }
    },
    {
      "cell_type": "markdown",
      "source": [
        "\n",
        "```\n",
        "# Write your MySQL query statement below\n",
        "SELECT DISTINCT author_id AS id\n",
        "FROM Views\n",
        "WHERE author_id = viewer_id\n",
        "ORDER BY id\n",
        "```\n",
        "\n"
      ],
      "metadata": {
        "id": "bi_jgxUrHzKN"
      }
    },
    {
      "cell_type": "markdown",
      "source": [
        "Write an SQL query to find all dates' Id with higher temperatures compared to its previous dates (yesterday).\n",
        "\n",
        "Return the result table in any order.\n",
        "\n",
        "```\n",
        "SELECT weather.id\n",
        "    FROM weather\n",
        "    JOIN weather w ON DATEDIFF(weather.recordDate, w.recordDate) = 1\n",
        "    WHERE weather.temperature > w.temperature\n",
        "    \n",
        "```\n",
        "\n"
      ],
      "metadata": {
        "id": "1rAsgShTwr8U"
      }
    },
    {
      "cell_type": "markdown",
      "source": [
        "Write an SQL query to report the names of all the salespersons who did not have any orders related to the company with the name \"RED\".\n",
        "\n",
        "\n",
        "\n",
        "```\n",
        "SELECT S.name \n",
        "FROM SalesPerson S\n",
        "WHERE\n",
        "    S.sales_id NOT IN (SELECT Orders.sales_id FROM Orders LEFT JOIN \n",
        "                      Company ON Orders.com_id = Company.com_id\n",
        "                      WHERE Company.name = 'RED')\n",
        "```\n",
        "\n"
      ],
      "metadata": {
        "id": "B59grXit2ZI2"
      }
    },
    {
      "cell_type": "markdown",
      "source": [
        "\n",
        "Write an SQL query to find the daily active user count for a period of 30 days ending 2019-07-27 inclusively. A user was active on someday if they made at least one activity on that day.\n",
        "\n",
        "```\n",
        "# Write your MySQL query statement below\n",
        "SELECT activity_date AS day, COUNT(DISTINCT user_id) as active_users\n",
        "FROM Activity\n",
        "WHERE DATEDIFF('2019-07-27', activity_date) < 30 \n",
        "AND DATEDIFF('2019-07-27', activity_date) >= 0\n",
        "GROUP BY activity_date\n",
        "```\n",
        "\n"
      ],
      "metadata": {
        "id": "fuSl7u1DH0oK"
      }
    },
    {
      "cell_type": "markdown",
      "source": [
        "Write an SQL query that will, for each date_id and make_name, return the number of distinct lead_id's and distinct partner_id's.\n",
        "\n",
        "\n",
        "\n",
        "```\n",
        "# Write your MySQL query statement below\n",
        "SELECT date_id, make_name, COUNT(DISTINCT lead_id) AS unique_leads, COUNT( DISTINCT partner_id) AS unique_partners\n",
        "FROM DailySales\n",
        "GROUP BY date_id, make_name\n",
        "```\n",
        "\n"
      ],
      "metadata": {
        "id": "N4LhH0qxXR0Z"
      }
    },
    {
      "cell_type": "markdown",
      "source": [
        "Write an SQL query that will, for each user, return the number of followers.\n",
        "\n",
        "Return the result table ordered by user_id.\n",
        "\n",
        "```\n",
        "# Write your MySQL query statement below\n",
        "SELECT user_id, COUNT( DISTINCT follower_id) AS followers_count\n",
        "FROM Followers\n",
        "GROUP BY user_id\n",
        "```\n",
        "\n"
      ],
      "metadata": {
        "id": "AazX2zlJYVuw"
      }
    },
    {
      "cell_type": "markdown",
      "source": [
        "Write an SQL query to find the customer_number for the customer who has placed the largest number of orders.\n",
        "\n",
        "\n",
        "\n",
        "```\n",
        "# Write your MySQL query statement below\n",
        "SELECT customer_number\n",
        "FROM Orders\n",
        "GROUP BY customer_number\n",
        "ORDER BY COUNT(*) DESC\n",
        "LIMIT 1;\n",
        "```\n",
        "\n"
      ],
      "metadata": {
        "id": "sA6EHUgMfkGh"
      }
    },
    {
      "cell_type": "markdown",
      "source": [
        "Write an SQL query to report the first login date for each player.\n",
        "Return the result table in any order.\n",
        "\n",
        "\n",
        "\n",
        "```\n",
        "# Write your MySQL query statement below\n",
        "SELECT player_id, MIN(event_date) AS first_login\n",
        "FROM Activity\n",
        "# WHERE MIN(event_date)\n",
        "GROUP BY player_id\n",
        "```\n",
        "\n"
      ],
      "metadata": {
        "id": "21te17MkjocR"
      }
    },
    {
      "cell_type": "markdown",
      "source": [
        "Write an SQL query to report the latest login for all users in the year 2020. Do not include the users who did not login in 2020.\n",
        "\n",
        "```\n",
        "SELECT user_id, MAX(time_stamp) AS last_stamp\n",
        "FROM Logins\n",
        "WHERE time_stamp BETWEEN '2020-01-01 00:00:00' AND '2020-12-31 23:59:59'\n",
        "GROUP BY user_id\n",
        "```\n",
        "\n"
      ],
      "metadata": {
        "id": "oRrePYlEp-Zu"
      }
    },
    {
      "cell_type": "markdown",
      "source": [
        "Write an SQL query to calculate the total time in minutes spent by each employee on each day at the office. Note that within one day, an employee can enter and leave more than once. The time spent in the office for a single entry is out_time - in_time.\n",
        "\n",
        "```\n",
        "# Write your MySQL query statement below\n",
        "SELECT event_day AS day, emp_id, SUM(out_time - in_time) AS total_time\n",
        "FROM Employees\n",
        "GROUP BY day, emp_id\n",
        "```\n",
        "\n"
      ],
      "metadata": {
        "id": "4J0ajc0_sTi7"
      }
    },
    {
      "cell_type": "markdown",
      "source": [
        "Write an SQL query to report the Capital gain/loss for each stock.\n",
        "\n",
        "The Capital gain/loss of a stock is the total gain or loss after buying and selling the stock one or many times.\n",
        "\n",
        "Return the result table in any order.\n",
        "\n",
        "\n",
        "\n",
        "```\n",
        "# Write your MySQL query statement below\n",
        "SELECT stock_name, \n",
        "SUM(CASE\n",
        "   WHEN operation = 2 THEN -1*price\n",
        "   ELSE price END) AS capital_gain_loss\n",
        "FROM Stocks\n",
        "GROUP BY stock_name\n",
        "```\n",
        "\n"
      ],
      "metadata": {
        "id": "DO9KQ1oKs8k8"
      }
    },
    {
      "cell_type": "markdown",
      "source": [
        "Write an SQL query to report the distance traveled by each user.\n",
        "\n",
        "Return the result table ordered by travelled_distance in descending order, if two or more users traveled the same distance, order them by their name in ascending order.\n",
        "\n",
        "```\n",
        "# Write your MySQL query statement below\n",
        "SELECT U.name, IFNULL(SUM(distance), 0) AS travelled_distance\n",
        "FROM Users U\n",
        "LEFT JOIN Rides R ON U.id = R.user_id\n",
        "GROUP BY U.name\n",
        "ORDER BY travelled_distance DESC, U.name\n",
        "```\n",
        "\n"
      ],
      "metadata": {
        "id": "3kS6IAoa3cu3"
      }
    },
    {
      "cell_type": "markdown",
      "source": [
        "Write an SQL query to find for each user, the join date and the number of orders they made as a buyer in 2019.\n",
        "\n",
        "\n",
        "```\n",
        "SELECT U.user_id AS buyer_id, U.join_date, \n",
        "COUNT(O.order_id) \n",
        " AS orders_in_2019\n",
        "FROM Users U\n",
        "LEFT JOIN Orders O\n",
        "ON U.user_id = O.buyer_id AND O.order_date BETWEEN '2019-01-01' AND '2019-12-31'\n",
        "GROUP BY U.user_id\n",
        "\n",
        "SELECT U.user_id AS buyer_id, U.join_date, \n",
        "COUNT(O.order_id) \n",
        " AS orders_in_2019\n",
        "FROM Users U\n",
        "LEFT JOIN Orders O\n",
        "ON U.user_id = O.buyer_id AND YEAR(O.order_date) = 2019\n",
        "GROUP BY U.user_id\n",
        "```\n",
        "\n"
      ],
      "metadata": {
        "id": "7o09HU__APPG"
      }
    },
    {
      "cell_type": "markdown",
      "source": [
        "Write an SQL query to report all the duplicate emails.\n",
        "\n",
        "\n",
        "```\n",
        "# Write your MySQL query statement below\n",
        "SELECT email as Email\n",
        "FROM Person\n",
        "GROUP BY email HAVING COUNT(id) >  1\n",
        "\n",
        "\n",
        "# Write your MySQL query statement below\n",
        "SELECT Email FROM\n",
        "(SELECT email as Email, COUNT(id) AS num\n",
        "FROM Person\n",
        "GROUP BY email) AS TEMP\n",
        "WHERE num > 1\n",
        "```\n",
        "\n"
      ],
      "metadata": {
        "id": "2u0pDoU-WXgo"
      }
    },
    {
      "cell_type": "markdown",
      "source": [
        "Write an SQL query to delete all the duplicate emails, keeping only one unique email with the smallest id. Note that you are supposed to write a DELETE statement and not a SELECT one.\n",
        "\n",
        "```\n",
        "# Please write a DELETE statement and DO NOT write a SELECT statement.\n",
        "# Write your MySQL query statement below\n",
        "\n",
        "DELETE P1 FROM Person P1, Person P2\n",
        "\n",
        "WHERE P1.email = P2.email AND P1.id > P2.id\n",
        "\n",
        "\n",
        "\n",
        "# Please write a DELETE statement and DO NOT write a SELECT statement.\n",
        "# Write your MySQL query statement below\n",
        "DELETE FROM Person WHERE id NOT IN\n",
        "(SELECT * FROM\n",
        "(SELECT MIN(id) FROM Person GROUP BY email) AS P)\n",
        "```\n",
        "\n"
      ],
      "metadata": {
        "id": "bZGj517refC1"
      }
    },
    {
      "cell_type": "markdown",
      "source": [
        "Write a SQL query for a report that provides the pairs (actor_id, director_id) where the actor has cooperated with the director at least three times.\n",
        "\n",
        "\n",
        "\n",
        "```\n",
        "# Write your MySQL query statement below\n",
        "SELECT actor_id, director_id\n",
        "FROM ActorDirector \n",
        "GROUP BY actor_id, director_id\n",
        "HAVING COUNT(timestamp) >= 3\n",
        "```\n",
        "\n"
      ],
      "metadata": {
        "id": "Km5ZJSXtiRIc"
      }
    },
    {
      "cell_type": "markdown",
      "source": [
        "Write an SQL query to report the name and balance of users with a balance higher than 10000. The balance of an account is equal to the sum of the amounts of all transactions involving that account.\n",
        "\n",
        "```\n",
        "# Write your MySQL query statement below\n",
        "SELECT U.name AS name, SUM(T.amount) as balance\n",
        "FROM Users U\n",
        "LEFT JOIN Transactions T\n",
        "ON U.account = T.account\n",
        "GROUP BY U.name HAVING balance > 10000\n",
        "```\n",
        "\n"
      ],
      "metadata": {
        "id": "8qNf-RbQoC16"
      }
    },
    {
      "cell_type": "markdown",
      "source": [
        "Write an SQL query that reports the products that were only sold in the first quarter of 2019. That is, between 2019-01-01 and 2019-03-31 inclusive.\n",
        "\n",
        "```\n",
        "# Write your MySQL query statement below\n",
        "SELECT P.product_id, p.product_name\n",
        "FROM Product P\n",
        "INNER JOIN Sales S ON P.product_id = S.product_id\n",
        "WHERE \n",
        "P.product_id not in (\n",
        "SELECT DISTINCT product_id FROM Sales WHERE sale_date \n",
        "    NOT BETWEEN '2019-01-01' AND '2019-03-31'\n",
        ") \n",
        "\n",
        "\n",
        "# Write your MySQL query statement below\n",
        "SELECT p.product_id, p.product_name\n",
        "FROM Product AS p\n",
        "INNER JOIN Sales AS s\n",
        "WHERE p.product_id = s.product_id\n",
        "GROUP BY s.product_id\n",
        "HAVING SUM(CASE WHEN s.sale_date BETWEEN '2019-01-01' AND '2019-03-31' THEN 0 ELSE 1 END) = 0;\n",
        "```\n",
        "\n"
      ],
      "metadata": {
        "id": "Z_URqIH9vmVb"
      }
    },
    {
      "cell_type": "markdown",
      "source": [
        "\n",
        "Write an SQL query to calculate the bonus of each employee. The bonus of an employee is 100% of their salary if the ID of the employee is an odd number and the employee name does not start with the character 'M'. The bonus of an employee is 0 otherwise.\n",
        "\n",
        "```\n",
        "# Write your MySQL query statement below\n",
        "select employee_id, \n",
        "case when employee_id % 2 = 1 and name NOT LIKE 'M%'\n",
        "then salary\n",
        "else 0\n",
        "end as bonus\n",
        "from Employees\n",
        "ORDER BY employee_id\n",
        "```\n",
        "\n"
      ],
      "metadata": {
        "id": "OPWlUvQWzci8"
      }
    },
    {
      "cell_type": "markdown",
      "source": [
        "Write an SQL query to swap all 'f' and 'm' values (i.e., change all 'f' values to 'm' and vice versa) with a single update statement and no intermediate temporary tables.\n",
        "\n",
        "Note that you must write a single update statement, do not write any select statement for this problem.\n",
        "\n",
        "\n",
        "\n",
        "```\n",
        "# Write your MySQL query statement below\n",
        "UPDATE salary set \n",
        "sex =\n",
        "case\n",
        "    when sex = 'm' then 'f'\n",
        "    else 'm' end\n",
        "```\n",
        "\n"
      ],
      "metadata": {
        "id": "155S0m8U1fil"
      }
    },
    {
      "cell_type": "markdown",
      "source": [
        "Write an SQL query to fix the names so that only the first character is uppercase and the rest are lowercase.\n",
        "\n",
        "Return the result table ordered by user_id.\n",
        "\n",
        "```\n",
        "# Write your MySQL query statement below\n",
        "select user_id, \n",
        "concat(upper(substring(name, 1, 1)), lower(substring(name, 2))) as name\n",
        "from users\n",
        "order by user_id\n",
        "```\n",
        "\n"
      ],
      "metadata": {
        "id": "QeojJDDR5T-D"
      }
    },
    {
      "cell_type": "markdown",
      "source": [
        "Write an SQL query to find for each date the number of different products sold and their names.\n",
        "\n",
        "The sold products names for each date should be sorted lexicographically.\n",
        "\n",
        "```\n",
        "# Write your MySQL query statement below\n",
        "select sell_date, count(distinct product) as num_sold, group_concat(distinct product) as products\n",
        "from activities\n",
        "group by sell_date\n",
        "```\n",
        "\n"
      ],
      "metadata": {
        "id": "ojFE30Z98Aiv"
      }
    },
    {
      "cell_type": "markdown",
      "source": [
        "Write an SQL query to report the patient_id, patient_name all conditions of patients who have Type I Diabetes. Type I Diabetes always starts with DIAB1 prefix\n",
        "\n",
        "Return the result table in any order.\n",
        "\n",
        "\n",
        "\n",
        "```\n",
        "# Write your MySQL query statement below\n",
        "select patient_id, patient_name, conditions\n",
        "from patients\n",
        "where conditions like 'DIAB1%' or conditions like '% DIAB1%'\n",
        "```\n",
        "\n"
      ],
      "metadata": {
        "id": "cIIlsVmI8RMF"
      }
    },
    {
      "cell_type": "markdown",
      "source": [
        "Write an SQL query to report the IDs of all the employees with missing information. The information of an employee is missing if:\n",
        "\n",
        "The employee's name is missing, or\n",
        "The employee's salary is missing.\n",
        "\n",
        "```\n",
        "# Write your MySQL query statement below\n",
        "select employee_id from Employees\n",
        "where employee_id not in (select employee_id from salaries)\n",
        "\n",
        "union \n",
        "\n",
        "select employee_id from Salaries\n",
        "where employee_id not in (select employee_id from Employees)\n",
        "\n",
        "order by employee_id\n",
        "```\n",
        "\n"
      ],
      "metadata": {
        "id": "A2b3eKD0Cys8"
      }
    },
    {
      "cell_type": "markdown",
      "source": [
        "sales analysis\n",
        "\n",
        "```\n",
        "with sales_avg AS (\n",
        "\tselect r.name as region, \n",
        "    case when sum(ifnull(s.amount,0)) = 0 then 0\n",
        "    else sum(ifnull(s.amount,0))/count(distinct e.id) end as average\n",
        "\n",
        "\n",
        "\tfrom regions r\n",
        "\tleft join states st on r.id = st.regionid\n",
        "\tleft join employees e on st.id = e.stateid\n",
        "\tleft join sales s on e.id = s.employeeid\n",
        "\tgroup by r.id, r.name)\n",
        " \n",
        " select region, average, (select max(average) from sales_avg) - average as difference\n",
        " from sales_avg\n",
        "group by 1\n",
        "```\n",
        "\n"
      ],
      "metadata": {
        "id": "9hMboxSVsBtE"
      }
    },
    {
      "cell_type": "markdown",
      "source": [
        "Write a query that selects the item name and the name of its seller for each item that belongs to a seller with a rating greater than 4. The query should return the name of the item as the first column and name of the seller as the second column.\n",
        "\n",
        "```\n",
        "-- Write only the SQL statement that solves the problem and nothing else\n",
        "select i.name as item_name, s.name as seller_name\n",
        "from items i \n",
        "left join sellers s \n",
        "on i.sellerId = s.id\n",
        "where s.rating > 4\n",
        "```\n",
        "\n"
      ],
      "metadata": {
        "id": "LigrS5TjtKfz"
      }
    },
    {
      "cell_type": "markdown",
      "source": [
        "Write a query that selects userId and average session duration for each user who has more than one session.\n",
        "\n",
        "```\n",
        "-- Write only the SQL statement that solves the problem and nothing else\n",
        "select userId, avg(duration)\n",
        "from sessions\n",
        "group by userId having count(userId) > 1\n",
        "```\n",
        "\n"
      ],
      "metadata": {
        "id": "niqOwyTWupi-"
      }
    },
    {
      "cell_type": "markdown",
      "source": [
        "Modify the provided SQL create table statement so that:\n",
        "\n",
        "Only users from the users table can exist within users_roles.\n",
        "Only roles from the roles table can exist within users_roles.\n",
        "A user can only have a specific role once.\n",
        "\n",
        "```\n",
        "-- Modify only this SQL create table statement and nothing else\n",
        "CREATE TABLE users_roles (\n",
        "  userId INTEGER NOT NULL,\n",
        "  roleId INTEGER NOT NULL,\n",
        "  FOREIGN KEY(userId) REFERENCES users(id),\n",
        "  FOREIGN KEY(roleId) REFERENCES roles(id),\n",
        "  PRIMARY KEY(userId, roleId)\n",
        ");\n",
        "```\n",
        "\n"
      ],
      "metadata": {
        "id": "Pjd8-DI6z3eJ"
      }
    },
    {
      "cell_type": "markdown",
      "source": [
        "###using rank and partition by with over\n",
        "Write an SQL query to report the device that is first logged in for each player.\n",
        "\n",
        "```\n",
        "# Write your MySQL query statement below\n",
        "select player_id, device_id from\n",
        "(select player_id,device_id, rank() over(partition by player_id order by event_date asc)\n",
        "as rank1 from activity) as V\n",
        "where rank1 = 1\n",
        "\n",
        "```\n",
        "\n"
      ],
      "metadata": {
        "id": "JSO4CxAUNNWS"
      }
    },
    {
      "cell_type": "markdown",
      "source": [
        "Write an SQL query to report the first name, last name, city, and state of each person in the Person table. If the address of a personId is not present in the Address table, report null instead.\n",
        "\n",
        "```\n",
        "# Write your MySQL query statement below\n",
        "select p.firstname, p.lastname, a.city, a.state\n",
        "from Person p\n",
        "left join Address a\n",
        "on a.personId = p.personId\n",
        "```\n",
        "\n"
      ],
      "metadata": {
        "id": "-JlmR4x1c4Wl"
      }
    },
    {
      "cell_type": "markdown",
      "source": [
        "\n",
        "Write an SQL query to find the IDs of the users who visited without making any transactions and the number of times they made these types of visits.\n",
        "\n",
        "Return the result table sorted in any order.\n",
        "\n",
        "```\n",
        "# Write your MySQL query statement below\n",
        "select v.customer_id, count(ifnull(t.transaction_id, 0)) as count_no_trans\n",
        "from Visits v\n",
        "left join Transactions t\n",
        "on t.visit_id = v.visit_id\n",
        "where t.transaction_id is NULL\n",
        "group by v.customer_id\n",
        "```\n",
        "\n"
      ],
      "metadata": {
        "id": "8ifDII0pfjWu"
      }
    },
    {
      "cell_type": "markdown",
      "source": [
        "Write an SQL query to find all the authors that viewed at least one of their own articles.\n",
        "\n",
        "Return the result table sorted by id in ascending order.\n",
        "\n",
        "```\n",
        "# Write your MySQL query statement below\n",
        "select author_id id\n",
        "from Views\n",
        "where author_id = viewer_id\n",
        "group by author_id\n",
        "order by author_id\n",
        "```\n",
        "\n"
      ],
      "metadata": {
        "id": "wwnb_T3kiNgY"
      }
    },
    {
      "cell_type": "markdown",
      "source": [
        "Write an SQL query to find all dates' Id with higher temperatures compared to its previous dates (yesterday).\n",
        "\n",
        "Return the result table in any order.\n",
        "\n",
        "```\n",
        "# Write your MySQL query statement below\n",
        "\n",
        "select a.id \n",
        "from Weather a\n",
        "join Weather b\n",
        "on datediff(a.recordDate, b.recordDate) = 1\n",
        "where a.temperature > b.temperature\n",
        "```\n",
        "\n"
      ],
      "metadata": {
        "id": "E-99_HGoOAvx"
      }
    },
    {
      "cell_type": "markdown",
      "source": [
        "Write an SQL query to report the names of all the salespersons who did not have any orders related to the company with the name \"RED\".\n",
        "\n",
        "Return the result table in any order.\n",
        "\n",
        "```\n",
        "# Write your MySQL query statement below\n",
        "\n",
        "select name from\n",
        "(select s.name, group_concat(ifnull(c.name, 'no_value')) as comp from\n",
        "SalesPerson s\n",
        "left join Orders o\n",
        "on o.sales_id = s.sales_id\n",
        "left join Company c\n",
        "on c.com_id = o.com_id\n",
        "group by s.name) as temp\n",
        "\n",
        "where comp not like 'RED%' or comp not like '%RED%'\n",
        "```\n",
        "\n"
      ],
      "metadata": {
        "id": "5cxIWsKwR3Vz"
      }
    },
    {
      "cell_type": "markdown",
      "source": [
        "\n",
        "Write an SQL query to report the names of all the salespersons who did not have any orders related to the company with the name \"RED\".\n",
        "\n",
        "Return the result table in any order.\n",
        "```\n",
        "# Write your MySQL query statement below\n",
        "\n",
        "select s.name from\n",
        "SalesPerson s\n",
        "\n",
        "where s.sales_id not in\n",
        "\n",
        "(select o.sales_id from Orders o\n",
        " left join Company c\n",
        " on c.com_id = o.com_id\n",
        " where c.name = \"RED\"\n",
        ")\n",
        "```\n",
        "\n"
      ],
      "metadata": {
        "id": "sSPanEUuTgan"
      }
    },
    {
      "cell_type": "markdown",
      "source": [
        "### recursive SQL first unterstanding\n",
        "\n",
        "\n",
        "\n",
        "```\n",
        "CREATE TABLE employees (\n",
        "\tstaff_id INT PRIMARY KEY,\n",
        "\tmanager_id INT,\n",
        "\tFOREIGN KEY (manager_id) REFERENCES employees (staff_id)\n",
        ");\n",
        "\n",
        "insert into employees values(1, null);\n",
        "insert into employees values(2, null); \n",
        "insert into employees values(3, 1);\n",
        "insert into employees values(4, 7);\n",
        "insert into employees values(5, 1);\n",
        "insert into employees values(6, 5);\n",
        "insert into employees values(7, 6);\n",
        "insert into employees values(8, 3);\n",
        "insert into employees values(9, 4);\n",
        "\n",
        "-- select * from employees;\n",
        "-- select manager_id, group_concat(employee_ids)\n",
        "\n",
        "-- from\n",
        "\n",
        "-- (select manager_id, count(staff_id) as total_employees, group_concat(staff_id) as employee_ids\n",
        "-- from employees\n",
        "-- where manager_id is not null\n",
        "-- group by manager_id)\n",
        "\n",
        "-- where manager_id = employee_ids\n",
        "\n",
        "\n",
        "with temp1 as\n",
        "(\n",
        "    select staff_id, manager_id, 0 as level_number\n",
        "    from employees\n",
        "    where staff_id = 1\n",
        "    \n",
        "    union all\n",
        "    \n",
        "    select a.staff_id, a.manager_id, level_number + 1 \n",
        "    from employees a\n",
        "    join temp1 b\n",
        "    on a.manager_id = b.staff_id\n",
        ")\n",
        "\n",
        "select 1 as staff_id, (count(*) - 1) as total from temp1;\n",
        "\n",
        "\n",
        "with temp2 as\n",
        "(\n",
        "    select staff_id, manager_id, 0 as level_number\n",
        "    from employees\n",
        "    where staff_id = 2\n",
        "    \n",
        "    union all\n",
        "    \n",
        "    select a.staff_id, a.manager_id, level_number + 1 \n",
        "    from employees a\n",
        "    join temp2 b\n",
        "    on a.manager_id = b.staff_id\n",
        ")\n",
        "\n",
        "select 2 as staff_id, (count(*) - 1) as total from temp2;\n",
        "```\n",
        "\n"
      ],
      "metadata": {
        "id": "6ZdJ5nmiT868"
      }
    },
    {
      "cell_type": "markdown",
      "source": [
        "Write an SQL query to find the daily active user count for a period of 30 days ending 2019-07-27 inclusively. A user was active on someday if they made at least one activity on that day.\n",
        "\n",
        "Return the result table in any order.\n",
        "\n",
        "```\n",
        "# Write your MySQL query statement below\n",
        "select activity_date as day, count(distinct user_id) as active_users\n",
        "from Activity\n",
        "where datediff('2019-07-27', activity_date) < 30 and datediff('2019-07-27', activity_date) >= 0\n",
        "group by activity_date\n",
        "```\n",
        "\n"
      ],
      "metadata": {
        "id": "T0KbdNGFI9f5"
      }
    },
    {
      "cell_type": "markdown",
      "source": [
        "Write an SQL query that will, for each date_id and make_name, return the number of distinct lead_id's and distinct partner_id's.\n",
        "\n",
        "Return the result table in any order.\n",
        "\n",
        "```\n",
        "# Write your MySQL query statement below\n",
        "select date_id, make_name, count(distinct lead_id) as unique_leads, count(distinct partner_id) as unique_partners\n",
        "from DailySales\n",
        "group by date_id, make_name\n",
        "```\n",
        "\n"
      ],
      "metadata": {
        "id": "0_PT49HjK7Bu"
      }
    },
    {
      "cell_type": "markdown",
      "source": [
        "Write an SQL query that will, for each user, return the number of followers.\n",
        "\n",
        "Return the result table ordered by user_id.\n",
        "\n",
        "```\n",
        "# Write your MySQL query statement below\n",
        "select user_id, count(follower_id) as followers_count\n",
        "from Followers\n",
        "group by user_id\n",
        "order by user_id\n",
        "```\n",
        "\n"
      ],
      "metadata": {
        "id": "tIfrbF_IL1RC"
      }
    },
    {
      "cell_type": "markdown",
      "source": [
        "Write an SQL query to report the nth highest salary from the Employee table. If there is no nth highest salary, the query should report null.\n",
        "\n",
        "The query result format is in the following example.\n",
        "\n",
        "```\n",
        "CREATE FUNCTION getNthHighestSalary(N INT) RETURNS INT\n",
        "BEGIN\n",
        "  RETURN (\n",
        "      # Write your MySQL query statement below.\n",
        "     select salary from\n",
        "      (select salary, row_number() over(order by salary DESC) as rn\n",
        "      from Employee group by salary) temp\n",
        "      where rn = N\n",
        "      \n",
        "  );\n",
        "END\n",
        "```\n",
        "\n"
      ],
      "metadata": {
        "id": "b4-S7oxkfHac"
      }
    },
    {
      "cell_type": "markdown",
      "source": [
        "Write an SQL query to find the customer_number for the customer who has placed the largest number of orders.\n",
        "\n",
        "The test cases are generated so that exactly one customer will have placed more orders than any other customer.\n",
        "\n",
        "```\n",
        "# Write your MySQL query statement below\n",
        "select customer_number from Orders\n",
        "group by customer_number\n",
        "order by count(customer_number) DESC\n",
        "limit 1\n",
        "```\n",
        "\n"
      ],
      "metadata": {
        "id": "ordmdeJSTGEa"
      }
    },
    {
      "cell_type": "markdown",
      "source": [
        "Write an SQL query to report the first login date for each player.\n",
        "\n",
        "Return the result table in any order.\n",
        "\n",
        "```\n",
        "# Write your MySQL query statement below\n",
        "select player_id, min(event_date) as first_login\n",
        "from Activity\n",
        "group by player_id\n",
        "```\n",
        "\n"
      ],
      "metadata": {
        "id": "rEHjWEbPT78q"
      }
    },
    {
      "cell_type": "markdown",
      "source": [
        "Write an SQL query to report the latest login for all users in the year 2020. Do not include the users who did not login in 2020.\n",
        "\n",
        "Return the result table in any order.\n",
        "\n",
        "```\n",
        "# Write your MySQL query statement below\n",
        "select user_id, max(time_stamp) as last_stamp from Logins \n",
        "where year(time_stamp) = 2020\n",
        "group by user_id\n",
        "```\n",
        "\n"
      ],
      "metadata": {
        "id": "F-Foy40vU1Mt"
      }
    },
    {
      "cell_type": "markdown",
      "source": [
        "Write an SQL query to calculate the total time in minutes spent by each employee on each day at the office. Note that within one day, an employee can enter and leave more than once. The time spent in the office for a single entry is out_time - in_time.\n",
        "\n",
        "Return the result table in any order.\n",
        "\n",
        "```\n",
        "# Write your MySQL query statement below\n",
        "select event_day as day, emp_id, sum(out_time - in_time) as total_time \n",
        "from Employees\n",
        "group by event_day, emp_id\n",
        "```\n",
        "\n"
      ],
      "metadata": {
        "id": "OH_87V8NWRsQ"
      }
    },
    {
      "cell_type": "markdown",
      "source": [
        "Write an SQL query to rank the scores. The ranking should be calculated according to the following rules:\n",
        "\n",
        "The scores should be ranked from the highest to the lowest.\n",
        "If there is a tie between two scores, both should have the same ranking.\n",
        "After a tie, the next ranking number should be the next consecutive integer value. In other words, there should be no holes between ranks.\n",
        "Return the result table ordered by score in descending order.\n",
        "\n",
        "The query result format is in the following example.\n",
        "\n",
        "```\n",
        "/* Write your T-SQL query statement below */\n",
        "\n",
        "select score,\n",
        "dense_rank() over(order by score DESC) as rank\n",
        "\n",
        "from Scores\n",
        "```\n",
        "\n"
      ],
      "metadata": {
        "id": "mkRsKvdWh1fu"
      }
    },
    {
      "cell_type": "markdown",
      "source": [
        "Write an SQL query to report the Capital gain/loss for each stock.\n",
        "\n",
        "The Capital gain/loss of a stock is the total gain or loss after buying and selling the stock one or many times.\n",
        "\n",
        "Return the result table in any order.\n",
        "\n",
        "```\n",
        "# Write your MySQL query statement below\n",
        "\n",
        "select stock_name, sum(stock_price) as capital_gain_loss\n",
        "from\n",
        "(select stock_name, \n",
        "case\n",
        "    when operation = 'Buy' then -1*price\n",
        "    else price end \n",
        "    as stock_price\n",
        "from Stocks) as temp\n",
        "group by stock_name\n",
        "```\n",
        "\n"
      ],
      "metadata": {
        "id": "5xAuJaaPORTu"
      }
    },
    {
      "cell_type": "markdown",
      "source": [
        "Write an SQL query to report the distance traveled by each user.\n",
        "\n",
        "Return the result table ordered by travelled_distance in descending order, if two or more users traveled the same distance, order them by their name in ascending order.\n",
        "\n",
        "```\n",
        "# Write your MySQL query statement below\n",
        "select u.name, sum(ifnull(r.distance, 0)) as travelled_distance\n",
        "from Users u\n",
        "left join Rides r\n",
        "on r.user_id = u.id\n",
        "group by u.id\n",
        "order by travelled_distance DESC, u.name\n",
        "```\n",
        "\n"
      ],
      "metadata": {
        "id": "1lnJlEgIQ6ip"
      }
    },
    {
      "cell_type": "markdown",
      "source": [
        "Write an SQL query to find for each user, the join date and the number of orders they made as a buyer in 2019.\n",
        "\n",
        "Return the result table in any order.\n",
        "\n",
        "```\n",
        "select u.user_id as buyer_id, u.join_date as join_date, count(o.order_id) as orders_in_2019\n",
        "from Users u\n",
        "left join Orders o \n",
        "on o.buyer_id = u.user_id and year(o.order_date) = 2019\n",
        "group by user_id\n",
        "```\n",
        "\n"
      ],
      "metadata": {
        "id": "27MwAypmZYyZ"
      }
    },
    {
      "cell_type": "markdown",
      "source": [
        "Write an SQL query to find all numbers that appear at least three times consecutively.\n",
        "\n",
        "Return the result table in any order.\n",
        "\n",
        "```\n",
        "# Write your MySQL query statement below\n",
        "select distinct n1.num as ConsecutiveNums\n",
        "from Logs n1, Logs n2, Logs n3\n",
        "where\n",
        "n2.id = n1.id - 1\n",
        "and n3.id = n2.id - 1\n",
        "and n2.num = n1.num\n",
        "and n3.num = n1.num\n",
        "```\n",
        "\n"
      ],
      "metadata": {
        "id": "4BT9jmB9bZzP"
      }
    },
    {
      "cell_type": "markdown",
      "source": [
        "Write an SQL query to report all the duplicate emails.\n",
        "\n",
        "Return the result table in any order.\n",
        "\n",
        "```\n",
        "# Write your MySQL query statement below\n",
        "select email as Email\n",
        "from Person\n",
        "group by email having count(id) > 1\n",
        "```\n",
        "\n"
      ],
      "metadata": {
        "id": "8pBMSEuRjG-d"
      }
    },
    {
      "cell_type": "markdown",
      "source": [
        "Write a SQL query for a report that provides the pairs (actor_id, director_id) where the actor has cooperated with the director at least three times.\n",
        "\n",
        "Return the result table in any order.\n",
        "\n",
        "```\n",
        "# Write your MySQL query statement below\n",
        "select actor_id, director_id from ActorDirector\n",
        "group by actor_id, director_id having count(timestamp) >= 3\n",
        "```\n",
        "\n"
      ],
      "metadata": {
        "id": "vLOJijnokvTA"
      }
    },
    {
      "cell_type": "markdown",
      "source": [
        "Write an SQL query to report the name and balance of users with a balance higher than 10000. The balance of an account is equal to the sum of the amounts of all transactions involving that account.\n",
        "\n",
        "Return the result table in any order.\n",
        "\n",
        "```\n",
        "# Write your MySQL query statement below\n",
        "select u.name, sum(t.amount) as balance\n",
        "from Users u \n",
        "left join Transactions t\n",
        "on t.account = u.account \n",
        "group by u.account having balance > 10000\n",
        "```\n",
        "\n"
      ],
      "metadata": {
        "id": "BmKWza3hmCe-"
      }
    },
    {
      "cell_type": "markdown",
      "source": [
        "Write an SQL query that reports the products that were only sold in the first quarter of 2019. That is, between 2019-01-01 and 2019-03-31 inclusive.\n",
        "\n",
        "Return the result table in any order.\n",
        "\n",
        "```\n",
        "# Write your MySQL query statement below\n",
        "select product_id, product_name\n",
        "from\n",
        "(select p.product_id product_id, p.product_name product_name, s.sale_date \n",
        "from Product p\n",
        "left join Sales s\n",
        "on s.product_id = p.product_id\n",
        "where sale_date between '2019-01-01' and '2019-03-31'\n",
        "group by p.product_id) as temp\n",
        "where product_id not in (select product_id from Sales where sale_date < '2019-01-01' or sale_date > '2019-03-31')\n",
        "```\n",
        "\n"
      ],
      "metadata": {
        "id": "Z6WNsPu7pP7m"
      }
    },
    {
      "cell_type": "markdown",
      "source": [
        "Write an SQL query to report the number of calls and the total call duration between each pair of distinct persons (person1, person2) where person1 < person2.\n",
        "\n",
        "Return the result table in any order.\n",
        "\n",
        "```\n",
        "# Write your MySQL query statement below\n",
        "select \n",
        "\n",
        "    case when from_id < to_id then from_id else to_id end as person1,\n",
        "    case when from_id < to_id then to_id else from_id end as person2,\n",
        "    \n",
        "    count(duration) as call_count,\n",
        "    sum(duration) as total_duration\n",
        "    \n",
        "from Calls\n",
        "group by person1, person2\n",
        "```\n",
        "\n"
      ],
      "metadata": {
        "id": "89xAUh-Qt3ud"
      }
    },
    {
      "cell_type": "markdown",
      "source": [
        "Write an SQL query to find the average selling price for each product. average_price should be rounded to 2 decimal places.\n",
        "\n",
        "Return the result table in any order.\n",
        "\n",
        "```\n",
        "# Write your MySQL query statement below\n",
        "select P.product_id, round(sum(P.price*U.units) / sum(U.units), 2) as average_price\n",
        "from Prices P\n",
        "inner join UnitsSold U\n",
        "on P.product_id = U.product_id\n",
        "where U.purchase_date between P.start_date and P.end_date\n",
        "group by P.product_id\n",
        "order by P.product_id\n",
        "```\n",
        "\n"
      ],
      "metadata": {
        "id": "o9oG5LGTzo30"
      }
    },
    {
      "cell_type": "markdown",
      "source": [
        "Write an SQL query to report the number of cubic feet of volume the inventory occupies in each warehouse.\n",
        "\n",
        "Return the result table in any order.\n",
        "\n",
        "```\n",
        "# Write your MySQL query statement below\n",
        "select W.name as warehouse_name, sum(P.Width * P.Length * P.Height * W.units) as volume\n",
        "from Warehouse W\n",
        "join Products P \n",
        "on P.product_id = W.product_id\n",
        "group by W.name\n",
        "```\n",
        "\n"
      ],
      "metadata": {
        "id": "CDeMb-GN0y8S"
      }
    },
    {
      "cell_type": "markdown",
      "source": [
        "Write an SQL query to report the difference between the number of apples and oranges sold each day.\n",
        "\n",
        "Return the result table ordered by sale_date.\n",
        "\n",
        "```\n",
        "# Write your MySQL query statement below\n",
        "select sale_date,\n",
        "sum(case\n",
        "    when fruit = 'apples' then sold_num\n",
        "    when fruit = 'oranges' then -1 * sold_num\n",
        "    end) as  diff\n",
        "\n",
        "from Sales\n",
        "group by sale_date\n",
        "```\n",
        "\n"
      ],
      "metadata": {
        "id": "dRjyHXjK4-n2"
      }
    },
    {
      "cell_type": "markdown",
      "source": [
        "Write an SQL query to find for each month and country, the number of transactions and their total amount, the number of approved transactions and their total amount.\n",
        "\n",
        "Return the result table in any order.\n",
        "\n",
        "```\n",
        "# Write your MySQL query statement below\n",
        "select date_format(trans_date, \"%Y-%m\") as month, country, sum(amount) as trans_total_amount, count(id) as trans_count,\n",
        "sum(case\n",
        "    when state = 'approved' then 1 else 0 end) as approved_count,\n",
        "    \n",
        "sum(case\n",
        "    when state = 'approved' then amount else 0 end) as approved_total_amount\n",
        "    \n",
        "from Transactions\n",
        "group by date_format(trans_date, \"%Y-%m\"), country\n",
        "```\n",
        "\n"
      ],
      "metadata": {
        "id": "p2IMpDSEIS6p"
      }
    },
    {
      "cell_type": "markdown",
      "source": [
        "Write an SQL query to find the percentage of the users registered in each contest rounded to two decimals.\n",
        "\n",
        "Return the result table ordered by percentage in descending order. In case of a tie, order it by contest_id in ascending order.\n",
        "\n",
        "```\n",
        "# Write your MySQL query statement below\n",
        "select contest_id, round((count(user_id) / (select count(user_id) from Users))*100, 2) as percentage\n",
        "from Register\n",
        "group by contest_id\n",
        "order by percentage DESC, contest_id\n",
        "```\n",
        "\n"
      ],
      "metadata": {
        "id": "FFPeyOiDMGU1"
      }
    },
    {
      "cell_type": "markdown",
      "source": [
        "If the customer's preferred delivery date is the same as the order date, then the order is called immediate; otherwise, it is called scheduled.\n",
        "\n",
        "Write an SQL query to find the percentage of immediate orders in the table, rounded to 2 decimal places.\n",
        "\n",
        "```\n",
        "# Write your MySQL query statement below\n",
        "select\n",
        "round(sum(case\n",
        "    when order_date = customer_pref_delivery_date then 1 else 0 end)\n",
        "    /\n",
        "    count(delivery_id)*100, 2)\n",
        "    as immediate_percentage\n",
        "    \n",
        "from Delivery;\n",
        "```\n",
        "\n"
      ],
      "metadata": {
        "id": "P49TxglcNhhk"
      }
    },
    {
      "cell_type": "markdown",
      "source": [
        "Write an SQL query to find each query_name, the quality and poor_query_percentage.\n",
        "\n",
        "Both quality and poor_query_percentage should be rounded to 2 decimal places.\n",
        "\n",
        "Return the result table in any order.\n",
        "\n",
        "```\n",
        "# Write your MySQL query statement below\n",
        "select query_name, \n",
        "round(sum(rating / position) / count(result), 2) as quality,\n",
        "round(sum(case when rating < 3 then 1 else 0 end)/count(result)*100, 2) as poor_query_percentage\n",
        "\n",
        "from Queries\n",
        "group by query_name\n",
        "```\n",
        "\n"
      ],
      "metadata": {
        "id": "-A_UPPzeRrhm"
      }
    },
    {
      "cell_type": "markdown",
      "source": [
        "Write an SQL query to report the names of all sellers who did not make any sales in 2020.\n",
        "\n",
        "Return the result table ordered by seller_name in ascending order.\n",
        "\n",
        "```\n",
        "# Write your MySQL query statement below\n",
        "\n",
        "select seller_name from\n",
        "(select s.seller_name as seller_name, \n",
        "sum(case\n",
        "    when year(sale_date) = 2020 then 1 else 0 end)\n",
        "    \n",
        "as sale_count_2020 from Seller s\n",
        "left join Orders o\n",
        "on o.seller_id = s.seller_id\n",
        "group by s.seller_name) temp\n",
        "where sale_count_2020 = 0\n",
        "order by seller_name\n",
        "```\n",
        "\n"
      ],
      "metadata": {
        "id": "m4jELp9Cah7L"
      }
    },
    {
      "cell_type": "markdown",
      "source": [
        "A single number is a number that appeared only once in the MyNumbers table.\n",
        "\n",
        "Write an SQL query to report the largest single number. If there is no single number, report null.\n",
        "\n",
        "```\n",
        "# Write your MySQL query statement below\n",
        "\n",
        "select max(num) as num from\n",
        "(select num from MyNumbers\n",
        "group by num having count(num) = 1) temp\n",
        "```\n",
        "\n"
      ],
      "metadata": {
        "id": "FWGgqxCieROB"
      }
    },
    {
      "cell_type": "markdown",
      "source": [
        "Write a SQL query to find the highest grade with its corresponding course for each student. In case of a tie, you should find the course with the smallest course_id.\n",
        "\n",
        "Return the result table ordered by student_id in ascending order.\n",
        "\n",
        "```\n",
        "# Write your MySQL query statement below\n",
        "select student_id, min(course_id) as course_id, grade from Enrollments\n",
        "where (student_id, grade) in\n",
        "\n",
        "(select student_id,\n",
        "max(grade) as grade\n",
        "from Enrollments\n",
        "group by student_id)\n",
        "\n",
        "group by student_id\n",
        "order by student_id\n",
        "```\n",
        "\n"
      ],
      "metadata": {
        "id": "rk3S0uujmIt8"
      }
    },
    {
      "cell_type": "markdown",
      "source": [
        "Write an SQL query to report the customer_id and customer_name of customers who bought products \"A\", \"B\" but did not buy the product \"C\" since we want to recommend them to purchase this product.\n",
        "\n",
        "Return the result table ordered by customer_id.\n",
        "\n",
        "```\n",
        "select customer_id, customer_name from\n",
        "(select c.customer_id, c.customer_name, group_concat(o.product_name order by o.product_name) as product_name\n",
        "from Orders o\n",
        "left join Customers c\n",
        "on c.customer_id = o.customer_id\n",
        "group by customer_id having product_name like 'A%' \n",
        "and product_name like '%B%' and \n",
        "product_name not like '%C%') as temp\n",
        "```\n",
        "\n"
      ],
      "metadata": {
        "id": "OyPz29J0rdvF"
      }
    },
    {
      "cell_type": "markdown",
      "source": [
        "Write an SQL query to evaluate the boolean expressions in Expressions table.\n",
        "\n",
        "Return the result table in any order.\n",
        "\n",
        "```\n",
        "# Write your MySQL query statement below\n",
        "\n",
        "select left_operand, operator, right_operand,\n",
        "case\n",
        "    when operator = '>' and left_value > right_value then 'true'\n",
        "    when operator = '<' and left_value < right_value then 'true'\n",
        "    when operator = '=' and left_value = right_value then 'true'\n",
        "    else 'false' end as value\n",
        "    \n",
        "from\n",
        "\n",
        "(select e.left_operand, v1.value as left_value, e.operator, e.right_operand, v2.value as right_value\n",
        "from Expressions e\n",
        "left join Variables v1 on v1.name = e.left_operand\n",
        "left join Variables v2 on v2.name = e.right_operand) temp\n",
        "```\n",
        "\n"
      ],
      "metadata": {
        "id": "iRmLtW2JF24X"
      }
    },
    {
      "cell_type": "markdown",
      "source": [
        "Write an SQL query to recommend pages to the user with user_id = 1 using the pages that your friends liked. It should not recommend pages you already liked.\n",
        "\n",
        "Return result table in any order without duplicates.\n",
        "\n",
        "```\n",
        "# Write your MySQL query statement below\n",
        "\n",
        "select page_id as recommended_page from Likes\n",
        "\n",
        "where user_id in\n",
        "\n",
        "(select user2_id from Friendship\n",
        "where user1_id = 1\n",
        "union\n",
        "select user1_id from Friendship\n",
        "where user2_id = 1) \n",
        "\n",
        "and\n",
        "page_id not in (select page_id from Likes where user_id = 1)\n",
        "\n",
        "group by page_id\n",
        "```\n",
        "\n"
      ],
      "metadata": {
        "id": "D9W7jeUMIUdZ"
      }
    },
    {
      "cell_type": "markdown",
      "source": [
        "Write an SQL query to report the managers with at least five direct reports.\n",
        "\n",
        "Return the result table in any order.\n",
        "\n",
        "```\n",
        "# Write your MySQL query statement below\n",
        "select name from Employee\n",
        "\n",
        "where id in\n",
        "\n",
        "(select managerId\n",
        "from Employee \n",
        "group by managerId having count(managerId) >= 5)\n",
        "```\n",
        "\n"
      ],
      "metadata": {
        "id": "4fgxsndXLQJe"
      }
    },
    {
      "cell_type": "markdown",
      "source": [
        "Write an SQL query to find the team size of each of the employees.\n",
        "\n",
        "Return result table in any order.\n",
        "\n",
        "```\n",
        "select e.employee_id, temp.team_size\n",
        "from Employee e\n",
        "left join \n",
        "\n",
        "(select team_id, count(team_id) as team_size\n",
        "from Employee\n",
        "group by team_id) as temp\n",
        "\n",
        "on\n",
        "temp.team_id = e.team_id\n",
        "```\n",
        "\n"
      ],
      "metadata": {
        "id": "ZlyqQ5zbNQDK"
      }
    },
    {
      "cell_type": "markdown",
      "source": [
        "Write an SQL query to find the number of times each student attended each exam.\n",
        "\n",
        "Return the result table ordered by student_id and subject_name.\n",
        "\n",
        "using from table1, table2\n",
        "\n",
        "```\n",
        "select temp.student_id, temp.student_name, temp.subject_name, count(e.subject_name) as attended_exams from\n",
        "(select a.student_id, a.student_name, b.subject_name from\n",
        "Students a, Subjects b\n",
        "group by a.student_id, b.subject_name\n",
        "order by a.student_id, b.subject_name) as temp\n",
        "\n",
        "left join Examinations e on \n",
        "e.student_id = temp.student_id\n",
        "and e.subject_name = temp.subject_name\n",
        "\n",
        "group by temp.student_id, temp.subject_name\n",
        "```\n",
        "\n",
        "Using cross join\n",
        "\n",
        "```\n",
        "# Write your MySQL query statement below\n",
        "\n",
        "select a.student_id, a.student_name, b.subject_name, count(e.subject_name) as attended_exams from\n",
        "\n",
        "Students a\n",
        "cross join Subjects b\n",
        "\n",
        "left join Examinations e on \n",
        "e.student_id = a.student_id\n",
        "and e.subject_name = b.subject_name\n",
        "\n",
        "group by a.student_id, b.subject_name\n",
        "order by a.student_id, b.subject_name\n",
        "\n",
        "```\n",
        "\n",
        "\n"
      ],
      "metadata": {
        "id": "p2f3bdEuhR86"
      }
    },
    {
      "cell_type": "markdown",
      "source": [
        "A telecommunications company wants to invest in new countries. The company intends to invest in the countries where the average call duration of the calls in this country is strictly greater than the global average call duration.\n",
        "\n",
        "Write an SQL query to find the countries where this company can invest.\n",
        "\n",
        "Return the result table in any order.\n",
        "\n",
        "```\n",
        "select temp.name as country from \n",
        "\n",
        "(select a.id,  c.name, ac.duration from Country c\n",
        "left join Person a\n",
        "on c.country_code = parsename(replace(a.phone_number, '-', '.'), 2)\n",
        "left join Calls ac\n",
        "on ac.callee_id = a.id\n",
        "\n",
        "union\n",
        "\n",
        "\n",
        "select a.id,  c.name, ac.duration from Country c\n",
        "left join Person a\n",
        "on c.country_code = parsename(replace(a.phone_number, '-', '.'), 2)\n",
        "left join Calls ac\n",
        "on ac.caller_id = a.id) temp\n",
        "\n",
        "group by temp.name having avg(cast(temp.duration as float)) > (select avg(cast(duration as float)) from Calls)\n",
        "```\n",
        "\n"
      ],
      "metadata": {
        "id": "-hJqirGzu96H"
      }
    },
    {
      "cell_type": "markdown",
      "source": [
        "Write an SQL query to find employees who have the highest salary in each of the departments.\n",
        "\n",
        "Return the result table in any order.\n",
        "\n",
        "```\n",
        "# Write your MySQL query statement below\n",
        "\n",
        "select d.name Department, e.name Employee, e.salary from\n",
        "Department d\n",
        "left join Employee e\n",
        "on e.departmentId = d.id\n",
        "where (d.id, e.salary) in \n",
        "\n",
        "(select departmentid, max(salary) as m\n",
        "from employee\n",
        "group by departmentid)\n",
        "```\n",
        "\n"
      ],
      "metadata": {
        "id": "PH6cmddt0cS4"
      }
    },
    {
      "cell_type": "markdown",
      "source": [
        "Write an SQL query to report the respective department name and number of students majoring in each department for all departments in the Department table (even ones with no current students).\n",
        "\n",
        "Return the result table ordered by student_number in descending order. In case of a tie, order them by dept_name alphabetically.\n",
        "\n",
        "```\n",
        "# Write your MySQL query statement below\n",
        "select d.dept_name, count(s.student_id) as student_number from Department d\n",
        "left join Student s\n",
        "on s.dept_id = d.dept_id\n",
        "group by d.dept_name\n",
        "order by count(s.student_id) DESC, d.dept_name\n",
        "```\n",
        "\n"
      ],
      "metadata": {
        "id": "EKI4_Pjy2hh7"
      }
    },
    {
      "cell_type": "markdown",
      "source": [
        "Write an SQL query to find the type of weather in each country for November 2019.\n",
        "\n",
        "The type of weather is:\n",
        "\n",
        "Cold if the average weather_state is less than or equal 15,\n",
        "Hot if the average weather_state is greater than or equal to 25, and\n",
        "Warm otherwise.\n",
        "Return result table in any order.\n",
        "\n",
        "```\n",
        "# Write your MySQL query statement below\n",
        "select c.country_name, \n",
        "case \n",
        "    when avg(weather_state) <= 15 then 'Cold'\n",
        "    when avg(weather_state) >= 25 then 'Hot'\n",
        "    else 'Warm' end as weather_type\n",
        "    \n",
        "from Countries c\n",
        "left join Weather w\n",
        "on w.country_id = c.country_id\n",
        "where month(w.day) = 11 and year(w.day) = 2019\n",
        "group by c.country_id\n",
        "```\n",
        "\n"
      ],
      "metadata": {
        "id": "jDsrn8VOn2SP"
      }
    },
    {
      "cell_type": "markdown",
      "source": [
        "Partition by over order by (good Explaination)\n",
        "\n",
        "```\n",
        "with test (id, num, x) as (\n",
        "  values \n",
        "    (1, 4, 1),\n",
        "    (2, 4, 1),\n",
        "    (3, 5, 2),\n",
        "    (4, 6, 2)\n",
        ")\n",
        "select id, \n",
        "       num,\n",
        "       x,\n",
        "       count(*) over () as total_rows, \n",
        "       count(*) over (order by id) as rows_upto,\n",
        "       count(*) over (partition by x order by id) as rows_per_x,\n",
        "       sum(num) over (partition by x) as total_for_x,\n",
        "       sum(num) over (order by id) as sum_upto,\n",
        "       sum(num) over (partition by x order by id) as sum_for_x_upto\n",
        "from test;\n",
        "```\n",
        "\n"
      ],
      "metadata": {
        "id": "ZvxF8kigrNHU"
      }
    },
    {
      "cell_type": "markdown",
      "source": [
        "Write an SQL query to swap the seat id of every two consecutive students. If the number of students is odd, the id of the last student is not swapped.\n",
        "\n",
        "Return the result table ordered by id in ascending order.\n",
        "\n",
        "using row_number() and union\n",
        "```\n",
        "select row_number() over(order by NULL) as id, student from ((\n",
        "# even part\n",
        "    select id, row_number() over(order by NULL) as new_id, student from Seat\n",
        "    where id % 2 = 0\n",
        ")\n",
        "union\n",
        "                                                   \n",
        "# odd part\n",
        "    (select id, row_number() over(order by NULL) as new_id, student from seat\n",
        "    where id % 2 != 0\n",
        ")\n",
        "order by new_id ASC, id DESC\n",
        "```\n",
        "\n",
        "\n",
        "using case\n",
        "```\n",
        "SELECT\n",
        "    (CASE\n",
        "        WHEN MOD(id, 2) != 0 AND counts != id THEN id + 1\n",
        "        WHEN MOD(id, 2) != 0 AND counts = id THEN id\n",
        "        ELSE id - 1\n",
        "    END) AS id,\n",
        "    student\n",
        "FROM\n",
        "    seat,\n",
        "    (SELECT\n",
        "        COUNT(*) AS counts\n",
        "    FROM\n",
        "        seat) AS seat_counts\n",
        "ORDER BY id ASC;\n",
        "```\n",
        "\n",
        "\n",
        "using coalease\n",
        "\n",
        "\n",
        "\n",
        "\n",
        "\n"
      ],
      "metadata": {
        "id": "fh5x5oGEz10y"
      }
    },
    {
      "cell_type": "markdown",
      "source": [
        "Write an SQL query to report the number of grand slam tournaments won by each player. Do not include the players who did not win any tournament.\n",
        "\n",
        "Return the result table in any order.\n",
        "\n",
        "```\n",
        "select player_id, player_name, sum(total) as grand_slams_count from\n",
        "(\n",
        "select p.player_id, p.player_name, count(c.Wimbledon) as total\n",
        "from Players p\n",
        "left join Championships c\n",
        "on c.Wimbledon = p.player_id\n",
        "group by p.player_id\n",
        "\n",
        "union all\n",
        "\n",
        "select p.player_id, p.player_name, count(c.Fr_open) as total\n",
        "from Players p\n",
        "left join Championships c\n",
        "on c.Fr_open = p.player_id\n",
        "group by p.player_id\n",
        "\n",
        "union all\n",
        "\n",
        "select p.player_id, p.player_name, count(c.US_open) as total\n",
        "from Players p\n",
        "left join Championships c\n",
        "on c.US_open = p.player_id\n",
        "group by p.player_id\n",
        "\n",
        "union all\n",
        "\n",
        "select p.player_id, p.player_name, count(c.Au_open) as total\n",
        "from Players p\n",
        "left join Championships c\n",
        "on c.Au_open = p.player_id\n",
        "group by p.player_id\n",
        ") as temp\n",
        "\n",
        "group by player_name having grand_slams_count <> 0\n",
        "\n",
        "```\n",
        "\n"
      ],
      "metadata": {
        "id": "Tm2l70PbBaBI"
      }
    },
    {
      "cell_type": "markdown",
      "source": [
        "\n",
        "Write an SQL query to find the prices of all products on 2019-08-16. Assume the price of all products before any change is 10.\n",
        "\n",
        "Return the result table in any order.\n",
        "```\n",
        "# # Write your MySQL query statement below\n",
        "\n",
        "with temp as\n",
        "(select distinct product_id,\n",
        "max(change_date) \n",
        "over(partition by product_id) as latest_date\n",
        "\n",
        "from Products\n",
        "where change_date <= '2019-08-16')\n",
        "\n",
        "\n",
        "select temp.product_id, p.new_price as price from temp\n",
        "join products p \n",
        "on P.product_id = temp.product_id and P.change_date = temp.latest_date\n",
        "\n",
        "union\n",
        "\n",
        "select distinct product_id, 10 as price from Products\n",
        "where change_date > '2019-08-16' and product_id not in (select distinct product_id from Products where change_date <= '2019-08-16')\n",
        "```\n",
        "\n"
      ],
      "metadata": {
        "id": "n-mitGC8MiKy"
      }
    },
    {
      "cell_type": "markdown",
      "source": [
        "Write an SQL query to report all the consecutive available seats in the cinema.\n",
        "\n",
        "Return the result table ordered by seat_id in ascending order.\n",
        "\n",
        "```\n",
        "# Write your MySQL query statement below\n",
        "select distinct a.seat_id\n",
        "from cinema a join cinema b\n",
        "on abs(a.seat_id -b.seat_id) = 1 and a.free = 1 and b.free = 1\n",
        "order by seat_id;\n",
        "```\n",
        "\n"
      ],
      "metadata": {
        "id": "4weLb0i1Cabi"
      }
    },
    {
      "cell_type": "markdown",
      "source": [
        "For this problem, we will consider a manager an employee who has at least 1 other employee reporting to them.\n",
        "\n",
        "Write an SQL query to report the ids and the names of all managers, the number of employees who report directly to them, and the average age of the reports rounded to the nearest integer.\n",
        "\n",
        "Return the result table ordered by employee_id.\n",
        "\n",
        "```\n",
        "# Write your MySQL query statement below\n",
        "select a.employee_id, a.name, count(b.employee_id) as reports_count, round(avg(b.age), 0) as average_age\n",
        "from Employees a\n",
        "join Employees b \n",
        "on b.reports_to = a.employee_id\n",
        "# where employee_id = reports_to\n",
        "group by a.employee_id\n",
        "order by a.employee_id\n",
        "```\n",
        "\n"
      ],
      "metadata": {
        "id": "906gVPIfCs4g"
      }
    },
    {
      "cell_type": "markdown",
      "source": [
        "Write an SQL query to find the account_id of the accounts that should be banned from Leetflex. An account should be banned if it was logged in at some moment from two different IP addresses.\n",
        "\n",
        "Return the result table in any order.\n",
        "\n",
        "```\n",
        "# Write your MySQL query statement below\n",
        "select distinct a.account_id\n",
        "from LogInfo a\n",
        "join LogInfo b\n",
        "on a.account_id = b.account_id and a.ip_address <> b.ip_address and a.login <= b.logout and a.logout >= b.login\n",
        "```\n",
        "\n"
      ],
      "metadata": {
        "id": "ucQLXGNQNysl"
      }
    },
    {
      "cell_type": "markdown",
      "source": [
        "Write an SQL query to find the employees who earn more than their managers.\n",
        "\n",
        "Return the result table in any order.\n",
        "\n",
        "```\n",
        "# Write your MySQL query statement below\n",
        "select b.name as Employee\n",
        "from Employee a \n",
        "join Employee b\n",
        "on b.managerId = a.id and b.salary > a.salary\n",
        "```\n",
        "\n"
      ],
      "metadata": {
        "id": "M4kk-4XSO-12"
      }
    },
    {
      "cell_type": "markdown",
      "source": [
        "Write an SQL query to report all possible axis-aligned rectangles with a non-zero area that can be formed by any two points from the Points table.\n",
        "\n",
        "Each row in the result should contain three columns (p1, p2, area) where:\n",
        "\n",
        "p1 and p2 are the id's of the two points that determine the opposite corners of a rectangle.\n",
        "area is the area of the rectangle and must be non-zero.\n",
        "Return the result table ordered by area in descending order. If there is a tie, order them by p1 in ascending order. If there is still a tie, order them by p2 in ascending order.\n",
        "\n",
        "```\n",
        "select a.id as P1, \n",
        "# a.x_value, a.y_value, \n",
        "b.id as P2, \n",
        "abs(a.x_value - b.x_value) * abs(a.y_value - b.y_value) as AREA\n",
        "# b.x_value, b.y_value\n",
        "from Points a\n",
        "join Points b \n",
        "on a.x_value <> b.x_value and a.y_value <> b.y_value\n",
        "where a.id < b.id\n",
        "order by AREA DESC, P1, P2\n",
        "```\n",
        "\n"
      ],
      "metadata": {
        "id": "Qyr9JvRkQcOV"
      }
    },
    {
      "cell_type": "markdown",
      "source": [
        "Write an SQL query to find all numbers that appear at least three times consecutively.\n",
        "\n",
        "Return the result table in any order.\n",
        "\n",
        "```\n",
        "select distinct a.num as ConsecutiveNums\n",
        "from Logs a\n",
        "join Logs b\n",
        "on b.id - a.id = 1 and b.num = a.num\n",
        "join Logs c\n",
        "on c.id - b.id = 1 and c.num = b.num\n",
        "```\n",
        "\n"
      ],
      "metadata": {
        "id": "dVtnmxuvuAtN"
      }
    },
    {
      "cell_type": "markdown",
      "source": [
        "Write an SQL query to report the minimum score requirement for each school. If there are multiple score values satisfying the above conditions, choose the smallest one. If the input data is not enough to determine the score, report -1.\n",
        "\n",
        "```\n",
        "# Write your MySQL query statement below\n",
        "\n",
        "select school_id, min(score) as score\n",
        "from Schools, Exam\n",
        "where student_count <= capacity\n",
        "group by school_id\n",
        "\n",
        "union\n",
        "\n",
        "select distinct school_id, -1 as score\n",
        "from schools, Exam\n",
        "where capacity < (select min(student_count) from exam)\n",
        "```\n",
        "\n"
      ],
      "metadata": {
        "id": "4cS8csmN8p2c"
      }
    },
    {
      "cell_type": "markdown",
      "source": [
        "Write an SQL query to find the most recent order(s) of each product.\n",
        "\n",
        "Return the result table ordered by product_name in ascending order and in case of a tie by the product_id in ascending order. If there still a tie, order them by order_id in ascending order.\n",
        "\n",
        "```\n",
        "# Write your MySQL query statement below\n",
        "\n",
        "select p.product_name, o.product_id, o.order_id, o.order_date \n",
        "from Products p\n",
        "left join Orders o\n",
        "on o.product_id = p.product_id\n",
        "where (o.product_id, o.order_date) in \n",
        "(select product_id, max(order_date) as order_date\n",
        "from Orders\n",
        "\n",
        "group by product_id)\n",
        "\n",
        "order by p.product_name, o.product_id, o.order_id\n",
        "```\n",
        "\n"
      ],
      "metadata": {
        "id": "LpniZi5QDn9U"
      }
    },
    {
      "cell_type": "markdown",
      "source": [
        "Write an SQL query to report the customer ids from the Customer table that bought all the products in the Product table.\n",
        "\n",
        "Return the result table in any order.\n",
        "\n",
        "```\n",
        "# Write your MySQL query statement below\n",
        "\n",
        "select a.customer_id\n",
        "from Customer a\n",
        "left join Product b\n",
        "on b.product_key = a.product_key\n",
        "group by a.customer_id having count(distinct a.product_key) = (select count(product_key) from Product)\n",
        "```\n",
        "\n"
      ],
      "metadata": {
        "id": "exvrv8bUYmRR"
      }
    },
    {
      "cell_type": "markdown",
      "source": [
        "Write an SQL query to:\n",
        "\n",
        "Find the name of the user who has rated the greatest number of movies. In case of a tie, return the lexicographically smaller user name.\n",
        "Find the movie name with the highest average rating in February 2020. In case of a tie, return the lexicographically smaller movie name.\n",
        "\n",
        "```\n",
        "# Write your MySQL query statement below\n",
        "(select b.name as results\n",
        "from MovieRating a\n",
        "left join Users b\n",
        "on b.user_id = a.user_id\n",
        "group by a.user_id\n",
        "order by count(a.rating) DESC, b.name\n",
        "limit 1)\n",
        "\n",
        "\n",
        "union \n",
        "\n",
        "(select a.title as result from\n",
        "Movies a\n",
        "left join MovieRating b\n",
        "on b.movie_id = a.movie_id\n",
        "where year(b.created_at) = 2020 and month(b.created_at) = 2\n",
        "group by a.movie_id\n",
        "order by avg(rating) DESC, a.title\n",
        "limit 1)\n",
        "```\n",
        "\n"
      ],
      "metadata": {
        "id": "sgJjzxXxcvwH"
      }
    },
    {
      "cell_type": "markdown",
      "source": [
        "You are running an e-commerce site that is looking for imbalanced orders. An imbalanced order is one whose maximum quantity is strictly greater than the average quantity of every order (including itself).\n",
        "\n",
        "```\n",
        "\n",
        "SELECT T_1.order_id FROM\n",
        "(SELECT order_id,MAX(quantity) AS max_qnt FROM OrdersDetails\n",
        "GROUP BY order_id) AS T_1\n",
        "WHERE T_1.max_qnt > ALL (SELECT AVG(quantity) AS avg_qnt FROM OrdersDetails\n",
        "GROUP BY order_id)\n",
        "```\n",
        "\n"
      ],
      "metadata": {
        "id": "6afBPkHZigMT"
      }
    },
    {
      "cell_type": "markdown",
      "source": [
        "### SQL 2 Day 11\n",
        "\n",
        "Write an SQL query to report the fraction of players that logged in again on the day after the day they first logged in, rounded to 2 decimal places. In other words, you need to count the number of players that logged in for at least two consecutive days starting from their first login date, then divide that number by the total number of players.\n",
        "\n",
        "```\n",
        "# Write your MySQL query statement below\n",
        "select round(count(distinct a.player_id) / (select count(distinct player_id) from Activity), 2) as fraction\n",
        "from (\n",
        "    select player_id, min(event_date) as min_date\n",
        "    from Activity\n",
        "    group by player_id\n",
        ") as a\n",
        "join Activity b\n",
        "on b.player_id = a.player_id and date_add(a.min_date, interval 1 day) = b.event_date\n",
        "```\n",
        "\n"
      ],
      "metadata": {
        "id": "Q0dvOyRKC07Q"
      }
    },
    {
      "cell_type": "markdown",
      "source": [
        "### SQL 2 Day 11\n",
        "\n",
        "\n",
        "The cancellation rate is computed by dividing the number of canceled (by client or driver) requests with unbanned users by the total number of requests with unbanned users on that day.\n",
        "\n",
        "Write a SQL query to find the cancellation rate of requests with unbanned users (both client and driver must not be banned) each day between \"2013-10-01\" and \"2013-10-03\". Round Cancellation Rate to two decimal points.\n",
        "\n",
        "Return the result table in any order.\n",
        "\n",
        "```\n",
        "# Write your MySQL query statement below\n",
        "\n",
        "\n",
        "\n",
        "select a.request_at as Day, \n",
        "round((ifnull(id_countB, 0) / id_countA), 2) as 'Cancellation Rate' from \n",
        "\n",
        "(select request_at, count(id) as id_countA from Trips\n",
        "where client_id not in (select users_id from Users where banned = 'Yes' and role = 'client') and driver_id not in (select users_id from Users where banned = 'Yes' and role = 'driver')\n",
        "group by request_at) as a\n",
        "\n",
        "left join\n",
        "\n",
        "(select request_at, count(id) as id_countB from Trips\n",
        "where client_id not in (select users_id from Users where banned = 'Yes' and role = 'client') and driver_id not in (select users_id from Users where banned = 'Yes' and role = 'driver') and status in ('cancelled_by_driver', 'cancelled_by_client')\n",
        "group by request_at) as b\n",
        "\n",
        "on (b.request_at = a.request_at)\n",
        "where a.request_at between '2013-10-01' and '2013-10-03'\n",
        "\n",
        "```\n",
        "\n"
      ],
      "metadata": {
        "id": "sVfDXk0bTGjm"
      }
    },
    {
      "cell_type": "markdown",
      "source": [
        "### SQL 3 Day 1\n",
        "\n",
        "Write an SQL query to find the team size of each of the employees.\n",
        "\n",
        "Return result table in any order.\n",
        "```\n",
        "# Write your MySQL query statement below\n",
        "\n",
        "select e.employee_id, temp.team_size\n",
        "from Employee e\n",
        "left join \n",
        "\n",
        "(select team_id, count(team_id) as team_size\n",
        "from Employee\n",
        "group by team_id) as temp\n",
        "\n",
        "on\n",
        "temp.team_id = e.team_id\n",
        "```\n",
        "\n"
      ],
      "metadata": {
        "id": "QCXaE6LZ3VnM"
      }
    },
    {
      "cell_type": "markdown",
      "source": [
        "### 1308. Running Total for Different Genders\n",
        "\n",
        "Write an SQL query to find the total score for each gender on each day.\n",
        "\n",
        "Return the result table ordered by gender and day in ascending order.\n",
        "\n",
        "```\n",
        "# Write your MySQL query statement below\n",
        "select b.gender, b.day, sum(b.score_points)\n",
        "over(partition by b.gender order by  b.day) \n",
        "as total\n",
        "from Scores a\n",
        "inner join Scores b\n",
        "on b.day <= a.day\n",
        "group by b.gender, b.day\n",
        "order by b.gender, b.day\n",
        "```\n",
        "\n"
      ],
      "metadata": {
        "id": "Wsov2qjZ9n5G"
      }
    },
    {
      "cell_type": "markdown",
      "source": [
        "### 1501. Countries You Can Safely Invest In\n",
        "\n",
        "```\n",
        "/* Write your T-SQL query statement below */\n",
        "\n",
        "select temp.name as country from \n",
        "\n",
        "(select a.id,  c.name, ac.duration from Country c\n",
        "left join Person a\n",
        "on c.country_code = parsename(replace(a.phone_number, '-', '.'), 2)\n",
        "left join Calls ac\n",
        "on ac.callee_id = a.id\n",
        "\n",
        "union\n",
        "\n",
        "\n",
        "select a.id,  c.name, ac.duration from Country c\n",
        "left join Person a\n",
        "on c.country_code = parsename(replace(a.phone_number, '-', '.'), 2)\n",
        "left join Calls ac\n",
        "on ac.caller_id = a.id) temp\n",
        "\n",
        "group by temp.name having avg(cast(temp.duration as float)) > (select avg(cast(duration as float)) from Calls)\n",
        "```\n",
        "\n"
      ],
      "metadata": {
        "id": "2l2HWpHU9_JJ"
      }
    },
    {
      "cell_type": "markdown",
      "source": [
        "### 1077. Project Employees III \n",
        "\n",
        "Write an SQL query that reports the most experienced employees in each project. In case of a tie, report all employees with the maximum number of experience years.\n",
        "\n",
        "Return the result table in any order.\n",
        "\n",
        "```\n",
        "select a.project_id, a.employee_id from Project a\n",
        "left join Employee b\n",
        "on b.employee_id = a.employee_id\n",
        "\n",
        "where (project_id, experience_years) in  \n",
        "(select a.project_id, max(b.experience_years) as max_ex\n",
        "from Project a\n",
        "join Employee b\n",
        "on b.employee_id = a.employee_id\n",
        "group by a.project_id)\n",
        "```\n",
        "\n",
        "\n",
        "\n",
        "```\n",
        "# Write your MySQL query statement below\n",
        "\n",
        "with experience as(\n",
        "    select a.project_id, a.employee_id, b.experience_years\n",
        "    from Project a\n",
        "    left join Employee b\n",
        "    on b.employee_id = a.employee_id\n",
        "),\n",
        "\n",
        "ranking as(\n",
        "    select project_id, employee_id, rank() over(partition by project_id order by experience_years DESC) as rank_experience from experience\n",
        ")\n",
        "\n",
        "select project_id, employee_id from ranking\n",
        "where rank_experience = 1\n",
        "```\n",
        "\n",
        "\n"
      ],
      "metadata": {
        "id": "XIAmyH5tJq06"
      }
    },
    {
      "cell_type": "markdown",
      "source": [
        "### 1549. The Most Recent Orders for Each Product\n",
        "\n",
        "```\n",
        "# Write your MySQL query statement below\n",
        "\n",
        "select p.product_name, o.product_id, o.order_id, o.order_date \n",
        "from Products p\n",
        "left join Orders o\n",
        "on o.product_id = p.product_id\n",
        "where (o.product_id, o.order_date) in \n",
        "(select product_id, max(order_date) as order_date\n",
        "from Orders\n",
        "\n",
        "group by product_id)\n",
        "\n",
        "order by p.product_name, o.product_id, o.order_id\n",
        "```\n",
        "\n",
        "using rank\n",
        "\n",
        "\n",
        "\n",
        "```\n",
        "# Write your MySQL query statement below\n",
        "with temp as(\n",
        "    select a.product_name, a.product_id, b.order_id, b.order_date, rank() over(partition by b.product_id order by b.order_date DESC) as date_rank\n",
        "    from Products a \n",
        "    left join Orders b\n",
        "    on b.product_id = a.product_id\n",
        ")\n",
        "\n",
        "select product_name, product_id, order_id, order_date from temp where date_rank = 1 and order_id is not null\n",
        "order by product_name, product_id, order_id\n",
        "\n",
        "```\n",
        "\n",
        "\n",
        "\n"
      ],
      "metadata": {
        "id": "1olJxLBeM8Bm"
      }
    },
    {
      "cell_type": "markdown",
      "source": [
        "### 1285. Find the Start and End Number of Continuous Ranges\n",
        "\n",
        "```\n",
        "# Write your MySQL query statement below\n",
        "select min(log_id) as start_id, max(log_id) as end_id from\n",
        "(\n",
        "select log_id, row_number() over(order by log_id) as rnk from Logs\n",
        ")as temp\n",
        "\n",
        "group by log_id-rnk\n",
        "order by 1\n",
        "```\n",
        "\n"
      ],
      "metadata": {
        "id": "zMxzFZdCXZx8"
      }
    },
    {
      "cell_type": "markdown",
      "source": [
        "### 1596. The Most Frequently Ordered Products for Each Customer\n",
        "\n",
        "```\n",
        "# Write your MySQL query statement below\n",
        "with temp as\n",
        "(select a.customer_id, a.product_id, count(a.product_id), rank() over(partition by a.customer_id order by count(a.product_id) DESC) as rank_order, b.product_name\n",
        "from Orders a\n",
        "left join Products b\n",
        "on b.product_id = a.product_id\n",
        "group by customer_id, product_id\n",
        "order by customer_id)\n",
        "\n",
        "select customer_id, product_id, product_name from temp\n",
        "where rank_order = 1\n",
        "```\n",
        "\n"
      ],
      "metadata": {
        "id": "3pWwTrEaiNA1"
      }
    },
    {
      "cell_type": "markdown",
      "source": [
        "### 178. Rank Scores\n",
        "\n",
        "```\n",
        "# Write your MySQL query statement below\n",
        "select score,\n",
        "dense_rank() over(order by score DESC)\n",
        "\n",
        "from Scores\n",
        "```\n",
        "\n"
      ],
      "metadata": {
        "id": "lKOuSAZ-58Hw"
      }
    },
    {
      "cell_type": "markdown",
      "source": [
        "### 177. Nth Highest Salary\n",
        "\n",
        "```\n",
        "CREATE FUNCTION getNthHighestSalary(N INT) RETURNS INT\n",
        "BEGIN\n",
        "  RETURN (\n",
        "      # Write your MySQL query statement below.\n",
        "     select salary from\n",
        "      (select salary, row_number() over(order by salary DESC) as rn\n",
        "      from Employee group by salary) temp\n",
        "      where rn = N\n",
        "      \n",
        "  );\n",
        "END\n",
        "```\n",
        "\n"
      ],
      "metadata": {
        "id": "BYrYhY1M6wiH"
      }
    },
    {
      "cell_type": "markdown",
      "source": [
        "### 1951. All the Pairs With the Maximum Number of Common Followers\n",
        "\n",
        "```\n",
        "# Write your MySQL query statement below\n",
        "with temp as \n",
        "(\n",
        "select a.user_id as user1_id, b.user_id as user2_id,  count(a.follower_id) as f1\n",
        "    from Relations a\n",
        "    join Relations b\n",
        "    on a.follower_id = b.follower_id and a.user_id < b.user_id\n",
        "    group by a.user_id, b.user_id\n",
        ")\n",
        "select user1_id, user2_id from temp\n",
        "where f1 = (select max(f1) from temp)\n",
        "```\n",
        "\n"
      ],
      "metadata": {
        "id": "JxRNTKpV_h2H"
      }
    },
    {
      "cell_type": "markdown",
      "source": [
        "### 1709. Biggest Window Between Visits\n",
        "\n",
        "```\n",
        "# Write your MySQL query statement below\n",
        "with cte as (\n",
        "    select \n",
        "        *,\n",
        "        lead(visit_date, 1, '2021-1-1') over(partition by user_id order by visit_date asc) as next_visit\n",
        "    from UserVisits\n",
        ")\n",
        "\n",
        "select user_id, max(datediff(next_visit, visit_date)) as biggest_window\n",
        "from cte\n",
        "group by user_id\n",
        "```\n",
        "\n"
      ],
      "metadata": {
        "id": "B4TyrU-IJHQ6"
      }
    },
    {
      "cell_type": "markdown",
      "source": [
        "### 1949. Strong Friendship\n",
        "\n",
        "```\n",
        "# Write your MySQL query statement below\n",
        "with temp as(\n",
        "    select user1_id, user2_id from friendship\n",
        "    union\n",
        "    select user2_id, user1_id from friendship\n",
        "\n",
        ")\n",
        "\n",
        "select a.user1_id, b.user1_id as user2_id, count(*) as common_friend from\n",
        "temp a, temp b\n",
        "where a.user2_id = b.user2_id\n",
        "group by a.user1_id, b.user1_id\n",
        "having count(*) >= 3 and (a.user1_id, b.user1_id) in (select * from friendship)\n",
        "```\n",
        "\n"
      ],
      "metadata": {
        "id": "voJ7SCYSNPpk"
      }
    },
    {
      "cell_type": "markdown",
      "source": [
        "### 1532. The Most Recent Three Orders\n",
        "\n",
        "```\n",
        "# Write your MySQL query statement below\n",
        "with temp as\n",
        "\n",
        "(select b.name, a.customer_id, order_id, order_date, rank() over(partition by customer_id order by order_date DESC) as rnk\n",
        "from Orders a\n",
        "left join Customers b\n",
        "on b.customer_id = a.customer_id\n",
        "order by b.name)\n",
        "\n",
        "select name as customer_name, customer_id, order_id, order_date\n",
        "from temp \n",
        "where rnk <= 3\n",
        "order by name, customer_id, order_date DESC\n",
        "```\n",
        "\n"
      ],
      "metadata": {
        "id": "Xpsm-tK7RENl"
      }
    },
    {
      "cell_type": "markdown",
      "source": [
        "### 1126. Active Businesses\n",
        "\n",
        "```\n",
        "# Write your MySQL query statement below\n",
        "with a as(\n",
        "    select event_type, avg(occurences) as average\n",
        "    from Events\n",
        "    group by event_type\n",
        ")\n",
        "\n",
        "select b.business_id from a\n",
        "left join Events b\n",
        "on b.event_type = a.event_type\n",
        "where b.occurences > a.average\n",
        "group by b.business_id having count(b.business_id) > 1\n",
        "```\n",
        "\n"
      ],
      "metadata": {
        "id": "xj-eqHrinHua"
      }
    },
    {
      "cell_type": "markdown",
      "source": [
        "### 1831. Maximum Transaction Each Day\n",
        "\n",
        "```\n",
        "# Write your MySQL query statement below\n",
        "select transaction_id from Transactions\n",
        "\n",
        "where (day(day), amount) in \n",
        "\n",
        "(select day(day), max(amount) as max_amount from Transactions\n",
        "group by day(day))\n",
        "\n",
        "order by transaction_id \n",
        "```\n",
        "\n"
      ],
      "metadata": {
        "id": "im21OEH2o-9M"
      }
    },
    {
      "cell_type": "markdown",
      "source": [
        "### 1613. Find the Missing IDs\n",
        "\n",
        "```\n",
        "# Write your MySQL query statement below\n",
        "with recursive temp as(\n",
        "select 1 as value\n",
        "union all\n",
        "select value + 1 as value\n",
        "from temp\n",
        "where temp.value < (select max(customer_id) from customers)\n",
        ")\n",
        "\n",
        "select value as ids from temp\n",
        "where value not in (select customer_id from Customers)\n",
        "```\n",
        "\n"
      ],
      "metadata": {
        "id": "roYwQ7l0Vpon"
      }
    },
    {
      "cell_type": "markdown",
      "source": [
        "### 1270. All People Report to the Given Manager\n",
        "\n",
        "```\n",
        "with temp as(\n",
        "select employee_id, manager_id, 1 as x from employees\n",
        "    where employee_id = 1\n",
        "    \n",
        "    union all\n",
        "    \n",
        "    select a.employee_id, a.manager_id, x+1 from employees a\n",
        "    join temp b on\n",
        "    a.manager_id = b.employee_id\n",
        "    where x <= 3\n",
        ")\n",
        "\n",
        "select distinct employee_id from temp where employee_id != 1\n",
        "```\n",
        "\n",
        "\n",
        "\n",
        "\n",
        "```\n",
        "# Write your MySQL query statement below\n",
        "\n",
        "with direct_report as (\n",
        "    select employee_id\n",
        "    from Employees\n",
        "    where manager_id = 1 and employee_id != 1\n",
        ")\n",
        ", indirect_report1 as (\n",
        "    select employee_id\n",
        "    from Employees\n",
        "    where manager_id in (select * from direct_report)\n",
        ")\n",
        ", indirect_report2 as (\n",
        "    select employee_id\n",
        "    from Employees\n",
        "    where manager_id in (select * from indirect_report1))\n",
        "\n",
        "(select * from direct_report) \n",
        "union \n",
        "(select * from indirect_report1) \n",
        "union \n",
        "(select * from indirect_report2)\n",
        "```\n",
        "\n",
        "\n"
      ],
      "metadata": {
        "id": "VMI24Drzh-ox"
      }
    },
    {
      "cell_type": "markdown",
      "source": [
        "### 1369. Get the Second Most Recent Activity\n",
        "\n",
        "```\n",
        "# Write your MySQL query statement below\n",
        "select username, activity, startDate, endDate from \n",
        "(\n",
        "select username, activity, startDate, endDate, dense_rank() over (partition by username order by endDate DESC) drnk, \n",
        "count(activity) over(partition by username) cnt\n",
        "    \n",
        "from UserActivity\n",
        ") temp\n",
        "where temp.drnk = 2 or temp.cnt = 1\n",
        "```\n",
        "\n"
      ],
      "metadata": {
        "id": "qwnblhZAsley"
      }
    },
    {
      "cell_type": "markdown",
      "source": [
        "### 1412. Find the Quiet Students in All Exams\n",
        "\n",
        "```\n",
        "with temp as\n",
        "(\n",
        "    select b.student_id, b.student_name, a.exam_id, a.score,\n",
        "max(a.score) over(partition by a.exam_id) as max_score,\n",
        "min(a.score) over(partition by a.exam_id) as min_score\n",
        "\n",
        "from Exam a\n",
        "join Student b\n",
        "on a.student_id = b.student_id\n",
        ") \n",
        "\n",
        "select student_id, student_name from temp\n",
        "where student_id not in (select student_id from temp where score in (max_score, min_score))\n",
        "group by student_id\n",
        "order by student_id\n",
        "```\n",
        "\n"
      ],
      "metadata": {
        "id": "rlAr-s3Tzdsa"
      }
    },
    {
      "cell_type": "markdown",
      "source": [
        "### 1972. First and Last Call On the Same Day\n",
        "\n",
        "```\n",
        "with temp as(\n",
        "select caller_id, recipient_id, call_time\n",
        "from Calls\n",
        "\n",
        "Union\n",
        "    \n",
        "select recipient_id as caller_id, caller_id as recipient_id, call_time\n",
        "from Calls\n",
        "),\n",
        "\n",
        "temp1 as(\n",
        "select caller_id,\n",
        "first_value(recipient_id) over(partition by caller_id, date(call_time) order by call_time) as first_call,\n",
        "first_value(recipient_id) over(partition by caller_id, date(call_time) order by call_time desc) as last_call  \n",
        "from temp\n",
        "    \n",
        ")\n",
        "\n",
        "select distinct caller_id as user_id from temp1\n",
        "where first_call = last_call\n",
        "```\n",
        "\n"
      ],
      "metadata": {
        "id": "7P4ElSQh4Qrb"
      }
    },
    {
      "cell_type": "markdown",
      "source": [
        "### 185. Department Top Three Salaries\n",
        "\n",
        "```\n",
        "with temp as(\n",
        "select a.id, a.name, a.salary, a.departmentId, b.name as deptName,\n",
        "dense_rank() over(partition by a.departmentId order by a.salary DESC) as salary_rnk\n",
        "from Employee a\n",
        "left join Department b\n",
        "on a.departmentId = b.id\n",
        ")\n",
        "\n",
        "\n",
        "select deptName as Department, name as Employee, salary as Salary from temp\n",
        "where salary_rnk <= 3\n",
        "```\n",
        "\n"
      ],
      "metadata": {
        "id": "PnWyHfu2aeO7"
      }
    },
    {
      "cell_type": "markdown",
      "source": [
        "### 1767. Find the Subtasks That Did Not Execute\n",
        "\n",
        "```\n",
        "# Write your MySQL query statement below\n",
        "with recursive temp as(\n",
        "select task_id, 1 as subtask_id\n",
        "from Tasks\n",
        "    \n",
        "union all\n",
        "\n",
        "select task_id, subtask_id + 1 as subtask_id \n",
        "from temp join Tasks using(task_id)\n",
        "where subtask_id < subtasks_count\n",
        ")\n",
        "\n",
        "select task_id, subtask_id from temp\n",
        "where (task_id, subtask_id) not in (select task_id, subtask_id from Executed)\n",
        "```\n",
        "\n"
      ],
      "metadata": {
        "id": "r9O4Quv5g2F7"
      }
    },
    {
      "cell_type": "markdown",
      "source": [
        "### 569. Median Employee Salary\n",
        "\n",
        "```\n",
        "# Write your MySQL query statement below\n",
        "with temp as\n",
        "(\n",
        "select id, company, salary,\n",
        "    row_number() over (partition by company order by salary) as rn,\n",
        "    count(*) over (partition by company) as cnt\n",
        "    from Employee\n",
        ")\n",
        "\n",
        "select id, company, salary from temp\n",
        "where rn between (cnt/2) and (cnt/2)+1\n",
        "```\n",
        "\n"
      ],
      "metadata": {
        "id": "w8jrEhgNdj_Q"
      }
    },
    {
      "cell_type": "markdown",
      "source": [
        "### 1384. Total Sales Amount by Year\n",
        "\n",
        "```\n",
        "# Write your MySQL query statement below\n",
        "with timeframe as(\n",
        "select '2018' as report_year, '2018-01-01' as start_date, '2018-12-31' as end_date \n",
        "union\n",
        "select '2019' as report_year, '2019-01-01' as start_date, '2019-12-31' as end_date\n",
        "union\n",
        "select '2020' as report_year, '2020-01-01' as start_date, '2020-12-31' as end_date \n",
        ")\n",
        "\n",
        "select a.product_id,\n",
        "b.product_name, \n",
        "c.report_year,\n",
        "(datediff(least(a.period_end, c.end_date), greatest(a.period_start, c.start_date)) + 1) * a.average_daily_sales as total_amount\n",
        "from Sales a\n",
        "inner join timeframe c\n",
        "on c.report_year between year(a.period_start) and year(a.period_end)\n",
        "inner join Product b\n",
        "on b.product_id = a.product_id\n",
        "order by a.product_id, c.report_year \n",
        "```\n",
        "\n"
      ],
      "metadata": {
        "id": "FmeA6qs5dp4z"
      }
    },
    {
      "cell_type": "markdown",
      "source": [
        "### 571. Find Median Given Frequency of Numbers\n",
        "\n",
        "```\n",
        "# Write your MySQL query statement below\n",
        "\n",
        "select round(avg(num*1.0), 1) as median from\n",
        "(select *, \n",
        "sum(frequency) over(order by num) as accumulated_sum,\n",
        "sum(frequency) over() / 2 as medium_num\n",
        "from Numbers) temp\n",
        "\n",
        "where accumulated_sum - frequency <= medium_num and accumulated_sum >= medium_num\n",
        "```\n",
        "\n"
      ],
      "metadata": {
        "id": "1msztoxGjtDF"
      }
    },
    {
      "cell_type": "markdown",
      "source": [
        "### 1225. Report Contiguous Dates\n",
        "\n",
        "my solution\n",
        "```\n",
        "/* Write your T-SQL query statement below */\n",
        "select 'failed' as period_state, min(fail_date) as start_date, max(fail_date) as end_date from\n",
        "(\n",
        "select fail_date, row_number() over(order by fail_date) as ab\n",
        "from Failed\n",
        "where year(fail_date) = 2019\n",
        "group by fail_date   \n",
        ") temp\n",
        "group by datediff(day, ab, fail_date)\n",
        "\n",
        "\n",
        "union\n",
        "\n",
        "select 'succeeded' as period_state, min(success_date) as start_date, max(success_date) as end_date from(\n",
        "select success_date, row_number() over(order by success_date) as ac\n",
        "from Succeeded\n",
        "where year(success_date) = 2019\n",
        "group by success_date   \n",
        ") temp1\n",
        "group by datediff(day, ac, success_date)\n",
        "\n",
        "order by start_date\n",
        "```\n",
        "\n",
        "learning from others solution\n",
        "\n",
        "\n",
        "\n",
        "```\n",
        "# Write your MySQL query statement below\n",
        "with t1 as (\n",
        "    select 'failed' as period_state, fail_date as dt, \n",
        "    dense_rank() over(order by fail_date) as rk\n",
        "    from failed where left(fail_date, 4) = 2019\n",
        "    \n",
        "    union all\n",
        "    \n",
        "    select 'succeeded' as period_state, success_date as dt,\n",
        "    dense_rank() over(order by success_date) as rk\n",
        "    from Succeeded where left(success_date, 4) = 2019\n",
        "    \n",
        ")\n",
        "\n",
        "select period_state, min(dt) as start_date, max(dt) as end_date \n",
        "from t1\n",
        "group by 1, date_add(dt, INTERVAL -rk DAY)\n",
        "order by 2\n",
        "```\n",
        "\n"
      ],
      "metadata": {
        "id": "DmZgZjKfq6Hc"
      }
    },
    {
      "cell_type": "code",
      "execution_count": null,
      "metadata": {
        "id": "zcaEpRv-iQ7f"
      },
      "outputs": [],
      "source": [
        ""
      ]
    }
  ]
}